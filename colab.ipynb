{
  "nbformat": 4,
  "nbformat_minor": 0,
  "metadata": {
    "colab": {
      "provenance": []
    },
    "kernelspec": {
      "name": "python3",
      "display_name": "Python 3"
    },
    "language_info": {
      "name": "python"
    }
  },
  "cells": [
    {
      "cell_type": "markdown",
      "metadata": {
        "id": "YLluhreTAvXQ"
      },
      "source": [
        "# O Colab irá reiniciar nessa primeira etapa. Isso é normal."
      ]
    },
    {
      "cell_type": "code",
      "metadata": {
        "id": "SOWAGUoq2jZC"
      },
      "source": [
        "!pip install -q condacolab\n",
        "import condacolab\n",
        "condacolab.install()\n",
        "!wget https://data.qiime2.org/distro/core/qiime2-2021.2-py36-linux-conda.yml\n",
        "!conda env create -n qiime2-2021.2 --file qiime2-2021.2-py36-linux-conda.yml -qq"
      ],
      "execution_count": null,
      "outputs": []
    },
    {
      "cell_type": "markdown",
      "source": [
        "# Daqui em diante, é possível executar tudo de uma vez."
      ],
      "metadata": {
        "id": "mCH0nLDMDxUL"
      }
    },
    {
      "cell_type": "code",
      "source": [
        "%%bash\n",
        "git clone https://github.com/Gnoogit/metagen.git"
      ],
      "metadata": {
        "id": "lbx-cJ-e-qAU"
      },
      "execution_count": null,
      "outputs": []
    },
    {
      "cell_type": "code",
      "source": [
        "%%shell\n",
        "\n",
        "wget -O \"patient_joao_MICROBIOMA16S_S69_R1_001.fastq.gz\" \"https://aulas-pos-hiae-public-data.s3.sa-east-1.amazonaws.com/TCC-metagenomica/patient_joao_MICROBIOMA16S_S69_R1_001.fastq.gz\"\n",
        "wget -O \"patient_joao_MICROBIOMA16S_S69_R2_001.fastq.gz\" \"https://aulas-pos-hiae-public-data.s3.sa-east-1.amazonaws.com/TCC-metagenomica/patient_joao_MICROBIOMA16S_S69_R2_001.fastq.gz\"\n",
        "wget -O \"gg-13-8-99-515-806-nb-classifier.qza\" \"https://data.qiime2.org/2021.2/common/gg-13-8-99-515-806-nb-classifier.qza\"\n",
        "\n",
        "echo \"sample-id\" > sample-id.txt\n",
        "echo \"forward-absolute-filepath\" > forward-absolute-filepath.txt\n",
        "echo \"reverse-absolute-filepath\" > reverse-absolute-filepath.txt\n",
        "\n",
        "ls *R1* | awk -F _ '{print $1}' >> sample-id.txt\n",
        "find $PWD/*R1* >> forward-absolute-filepath.txt\n",
        "find $PWD/*R2* >> reverse-absolute-filepath.txt\n",
        "\n",
        "paste sample-id.txt forward-absolute-filepath.txt reverse-absolute-filepath.txt > manifest-file.tsv\n",
        "\n",
        "mkdir -p fastq import dada2 visualization tree taxonomy"
      ],
      "metadata": {
        "id": "jgbOS_OwA9U0"
      },
      "execution_count": null,
      "outputs": []
    },
    {
      "cell_type": "code",
      "source": [
        "%%shell\n",
        "\n",
        "eval \"$(conda shell.bash hook)\"\n",
        "conda activate qiime2-2021.2\n",
        "\n",
        "qiime tools import --type 'SampleData[PairedEndSequencesWithQuality]' --input-path manifest-file.tsv --output-path import/import.qza --input-format PairedEndFastqManifestPhred33V2\n",
        "qiime demux summarize --i-data import/import.qza --o-visualization visualization/import.qzv\n",
        "\n",
        "conda deactivate"
      ],
      "metadata": {
        "id": "PYMr7P3FDfKT"
      },
      "execution_count": null,
      "outputs": []
    },
    {
      "cell_type": "code",
      "source": [
        "%%shell\n",
        "\n",
        "eval \"$(conda shell.bash hook)\"\n",
        "conda activate qiime2-2021.2\n",
        "\n",
        "qiime dada2 denoise-paired --i-demultiplexed-seqs import/import.qza \\\n",
        " --p-trunc-len-f 250 \\\n",
        " --p-trunc-len-r 250 \\\n",
        " --p-trim-left-f 17 \\\n",
        " --p-trim-left-r 21 \\\n",
        " --o-representative-sequences dada2/rep-seqs.qza \\\n",
        " --p-n-threads 8 \\\n",
        " --o-table table.qza \\\n",
        " --o-denoising-stats dada2/stats.qza\n",
        "\n",
        "conda deactivate"
      ],
      "metadata": {
        "id": "vxwJcuGIDhLS"
      },
      "execution_count": null,
      "outputs": []
    },
    {
      "cell_type": "code",
      "source": [
        "%%shell\n",
        "\n",
        "eval \"$(conda shell.bash hook)\"\n",
        "conda activate qiime2-2021.2\n",
        "\n",
        "qiime feature-table tabulate-seqs --i-data dada2/rep-seqs.qza --o-visualization visualization/rep-seqs.qzv\n",
        "qiime metadata tabulate --m-input-file dada2/stats.qza --o-visualization visualization/stats.qzv\n",
        "\n",
        "conda deactivate"
      ],
      "metadata": {
        "id": "8DZ9gY9WHidb"
      },
      "execution_count": null,
      "outputs": []
    },
    {
      "cell_type": "code",
      "source": [
        "%%shell\n",
        "\n",
        "eval \"$(conda shell.bash hook)\"\n",
        "conda activate qiime2-2021.2\n",
        "\n",
        " qiime phylogeny align-to-tree-mafft-fasttree \\\n",
        " --i-sequences dada2/rep-seqs.qza \\\n",
        " --o-alignment tree/aligned-rep-seqs.qza \\\n",
        " --o-masked-alignment tree/masked-aligned-rep-seqs.qza \\\n",
        " --o-tree tree/unrooted-tree.qza \\\n",
        " --o-rooted-tree tree/rooted-tree.qza\n",
        "\n",
        "conda deactivate"
      ],
      "metadata": {
        "id": "kIysMiXdDjIQ"
      },
      "execution_count": null,
      "outputs": []
    },
    {
      "cell_type": "code",
      "source": [
        "%%shell\n",
        "\n",
        "eval \"$(conda shell.bash hook)\"\n",
        "conda activate qiime2-2021.2\n",
        "\n",
        "qiime feature-classifier classify-sklearn \\\n",
        " --i-classifier gg-13-8-99-515-806-nb-classifier.qza \\\n",
        " --p-reads-per-batch 10000 \\\n",
        " --i-reads dada2/rep-seqs.qza \\\n",
        " --o-classification taxonomy/taxonomy.qza\n",
        "\n",
        "conda deactivate"
      ],
      "metadata": {
        "id": "7i3ueHcBH_9t"
      },
      "execution_count": null,
      "outputs": []
    },
    {
      "cell_type": "code",
      "source": [
        "%%shell\n",
        "\n",
        "eval \"$(conda shell.bash hook)\"\n",
        "conda activate qiime2-2021.2\n",
        "\n",
        "qiime metadata tabulate \\\n",
        " --m-input-file taxonomy/taxonomy.qza \\\n",
        " --o-visualization visualization/taxonomy.qzv\n",
        "\n",
        "conda deactivate"
      ],
      "metadata": {
        "id": "zjWyxFwCL6ky"
      },
      "execution_count": null,
      "outputs": []
    },
    {
      "cell_type": "code",
      "source": [
        "%%shell\n",
        "\n",
        "eval \"$(conda shell.bash hook)\"\n",
        "conda activate qiime2-2021.2\n",
        "\n",
        "qiime taxa barplot \\\n",
        "  --i-table table.qza \\\n",
        "  --i-taxonomy taxonomy/taxonomy.qza \\\n",
        "  --m-metadata-file metagen/metadata-file.tsv \\\n",
        "  --o-visualization visualization/taxa-bar-plots.qzv\n",
        "\n",
        "conda deactivate"
      ],
      "metadata": {
        "id": "ZoBml-K0Osvl"
      },
      "execution_count": null,
      "outputs": []
    },
    {
      "cell_type": "markdown",
      "source": [
        "# Os resultados estão todos na pasta visualization. Usar o site https://view.qiime2.org/ para visualizar. Se tudo der certo, o arquivo taxa-bar-plots.qzv deve sair parecido com a imagem dentro da pasta metagen."
      ],
      "metadata": {
        "id": "_jhO-B-qDlbZ"
      }
    }
  ]
}
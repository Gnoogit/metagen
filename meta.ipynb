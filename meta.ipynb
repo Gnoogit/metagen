{
  "nbformat": 4,
  "nbformat_minor": 0,
  "metadata": {
    "colab": {
      "provenance": []
    },
    "kernelspec": {
      "name": "python3",
      "display_name": "Python 3"
    },
    "language_info": {
      "name": "python"
    }
  },
  "cells": [
    {
      "cell_type": "markdown",
      "metadata": {
        "id": "YLluhreTAvXQ"
      },
      "source": [
        "# O Colab irá reiniciar nessa primeira etapa. Isso é normal."
      ]
    },
    {
      "cell_type": "code",
      "metadata": {
        "id": "SOWAGUoq2jZC",
        "colab": {
          "base_uri": "https://localhost:8080/"
        },
        "outputId": "e08083fd-9bea-4cf3-fec8-e2be529d5222"
      },
      "source": [
        "!pip install -q condacolab\n",
        "import condacolab\n",
        "condacolab.install_miniconda()"
      ],
      "execution_count": null,
      "outputs": [
        {
          "output_type": "stream",
          "name": "stdout",
          "text": [
            "⏬ Downloading https://repo.anaconda.com/miniconda/Miniconda3-py310_23.11.0-2-Linux-x86_64.sh...\n",
            "📦 Installing...\n",
            "📌 Adjusting configuration...\n",
            "🩹 Patching environment...\n",
            "⏲ Done in 0:00:27\n",
            "🔁 Restarting kernel...\n"
          ]
        }
      ]
    },
    {
      "cell_type": "markdown",
      "source": [
        "# Aqui o Colab irá pedir pela autorização para conectar ao drive"
      ],
      "metadata": {
        "id": "854hqXDwY6Ee"
      }
    },
    {
      "cell_type": "code",
      "source": [
        "from google.colab import drive\n",
        "drive.mount('/content/gdrive')"
      ],
      "metadata": {
        "colab": {
          "base_uri": "https://localhost:8080/"
        },
        "id": "P7tCoyDPYr8B",
        "outputId": "a3ac3534-dfde-400b-9fca-42f613b0d632"
      },
      "execution_count": null,
      "outputs": [
        {
          "output_type": "stream",
          "name": "stdout",
          "text": [
            "Mounted at /content/gdrive\n"
          ]
        }
      ]
    },
    {
      "cell_type": "markdown",
      "source": [
        "# Aqui o pipeline irá fazer o download de arquivos externos necessários e criar uma estrutura de pastas"
      ],
      "metadata": {
        "id": "3tw3DObQWiwx"
      }
    },
    {
      "cell_type": "code",
      "source": [
        "%%shell\n",
        "\n",
        "cp gdrive/MyDrive/trab2/metadata-file.tsv metadata-file.tsv\n",
        "cp gdrive/MyDrive/trab2/classifier-ncbi-unite.qza classifier-ncbi-unite.qza\n",
        "\n",
        "wget -O \"patient_joao_MICROBIOMA16S_S69_R1_001.fastq.gz\" \"https://aulas-pos-hiae-public-data.s3.sa-east-1.amazonaws.com/TCC-metagenomica/patient_joao_MICROBIOMA16S_S69_R1_001.fastq.gz\"\n",
        "wget -O \"patient_joao_MICROBIOMA16S_S69_R2_001.fastq.gz\" \"https://aulas-pos-hiae-public-data.s3.sa-east-1.amazonaws.com/TCC-metagenomica/patient_joao_MICROBIOMA16S_S69_R2_001.fastq.gz\"\n",
        "wget -O \"gg-13-8-99-515-806-nb-classifier.qza\" \"https://data.qiime2.org/2021.2/common/gg-13-8-99-515-806-nb-classifier.qza\"\n",
        "\n",
        "mkdir -p fastq import dada2 visualization tree taxonomy\n",
        "\n",
        "echo \"sample-id\" > sample-id.txt\n",
        "echo \"forward-absolute-filepath\" > forward-absolute-filepath.txt\n",
        "echo \"reverse-absolute-filepath\" > reverse-absolute-filepath.txt\n",
        "\n",
        "ls *R1* | awk -F _ '{print $1}' >> sample-id.txt\n",
        "find $PWD/*R1* >> forward-absolute-filepath.txt\n",
        "find $PWD/*R2* >> reverse-absolute-filepath.txt\n",
        "\n",
        "paste sample-id.txt forward-absolute-filepath.txt reverse-absolute-filepath.txt > manifest-file.tsv"
      ],
      "metadata": {
        "id": "jgbOS_OwA9U0",
        "colab": {
          "base_uri": "https://localhost:8080/"
        },
        "outputId": "d96e4762-6ca9-473c-be2b-a35de7afc99f"
      },
      "execution_count": null,
      "outputs": [
        {
          "output_type": "stream",
          "name": "stdout",
          "text": [
            "/bin/bash: /usr/local/lib/libtinfo.so.6: no version information available (required by /bin/bash)\n",
            "--2024-02-16 23:57:23--  https://aulas-pos-hiae-public-data.s3.sa-east-1.amazonaws.com/TCC-metagenomica/patient_joao_MICROBIOMA16S_S69_R1_001.fastq.gz\n",
            "Resolving aulas-pos-hiae-public-data.s3.sa-east-1.amazonaws.com (aulas-pos-hiae-public-data.s3.sa-east-1.amazonaws.com)... 16.12.2.66, 3.5.233.121, 16.12.2.18, ...\n",
            "Connecting to aulas-pos-hiae-public-data.s3.sa-east-1.amazonaws.com (aulas-pos-hiae-public-data.s3.sa-east-1.amazonaws.com)|16.12.2.66|:443... connected.\n",
            "HTTP request sent, awaiting response... 200 OK\n",
            "Length: 20922139 (20M) [application/x-gzip]\n",
            "Saving to: ‘patient_joao_MICROBIOMA16S_S69_R1_001.fastq.gz’\n",
            "\n",
            "patient_joao_MICROB 100%[===================>]  19.95M  11.4MB/s    in 1.8s    \n",
            "\n",
            "2024-02-16 23:57:25 (11.4 MB/s) - ‘patient_joao_MICROBIOMA16S_S69_R1_001.fastq.gz’ saved [20922139/20922139]\n",
            "\n",
            "--2024-02-16 23:57:25--  https://aulas-pos-hiae-public-data.s3.sa-east-1.amazonaws.com/TCC-metagenomica/patient_joao_MICROBIOMA16S_S69_R2_001.fastq.gz\n",
            "Resolving aulas-pos-hiae-public-data.s3.sa-east-1.amazonaws.com (aulas-pos-hiae-public-data.s3.sa-east-1.amazonaws.com)... 16.12.2.66, 3.5.233.121, 16.12.2.18, ...\n",
            "Connecting to aulas-pos-hiae-public-data.s3.sa-east-1.amazonaws.com (aulas-pos-hiae-public-data.s3.sa-east-1.amazonaws.com)|16.12.2.66|:443... connected.\n",
            "HTTP request sent, awaiting response... 200 OK\n",
            "Length: 34296183 (33M) [application/x-gzip]\n",
            "Saving to: ‘patient_joao_MICROBIOMA16S_S69_R2_001.fastq.gz’\n",
            "\n",
            "patient_joao_MICROB 100%[===================>]  32.71M  5.27MB/s    in 15s     \n",
            "\n",
            "2024-02-16 23:57:41 (2.16 MB/s) - ‘patient_joao_MICROBIOMA16S_S69_R2_001.fastq.gz’ saved [34296183/34296183]\n",
            "\n",
            "--2024-02-16 23:57:41--  https://data.qiime2.org/2021.2/common/gg-13-8-99-515-806-nb-classifier.qza\n",
            "Resolving data.qiime2.org (data.qiime2.org)... 54.200.1.12\n",
            "Connecting to data.qiime2.org (data.qiime2.org)|54.200.1.12|:443... connected.\n",
            "HTTP request sent, awaiting response... 302 FOUND\n",
            "Location: https://s3-us-west-2.amazonaws.com/qiime2-data/2021.2/common/gg-13-8-99-515-806-nb-classifier.qza [following]\n",
            "--2024-02-16 23:57:41--  https://s3-us-west-2.amazonaws.com/qiime2-data/2021.2/common/gg-13-8-99-515-806-nb-classifier.qza\n",
            "Resolving s3-us-west-2.amazonaws.com (s3-us-west-2.amazonaws.com)... 52.92.225.64, 52.218.217.56, 52.92.163.168, ...\n",
            "Connecting to s3-us-west-2.amazonaws.com (s3-us-west-2.amazonaws.com)|52.92.225.64|:443... connected.\n",
            "HTTP request sent, awaiting response... 200 OK\n",
            "Length: 28285585 (27M) [binary/octet-stream]\n",
            "Saving to: ‘gg-13-8-99-515-806-nb-classifier.qza’\n",
            "\n",
            "gg-13-8-99-515-806- 100%[===================>]  26.97M  22.0MB/s    in 1.2s    \n",
            "\n",
            "2024-02-16 23:57:43 (22.0 MB/s) - ‘gg-13-8-99-515-806-nb-classifier.qza’ saved [28285585/28285585]\n",
            "\n"
          ]
        },
        {
          "output_type": "execute_result",
          "data": {
            "text/plain": []
          },
          "metadata": {},
          "execution_count": 2
        }
      ]
    },
    {
      "cell_type": "markdown",
      "source": [
        "# Rodar o próximo bloco para análise 16s"
      ],
      "metadata": {
        "id": "H9klubthCXIn"
      }
    },
    {
      "cell_type": "code",
      "source": [
        "%%shell\n",
        "\n",
        "wget https://data.qiime2.org/distro/core/qiime2-2021.2-py36-linux-conda.yml\n",
        "conda env create -n qiime2-2021.2 --file qiime2-2021.2-py36-linux-conda.yml -qq\n",
        "\n",
        "eval \"$(conda shell.bash hook)\"\n",
        "conda activate qiime2-2021.2\n",
        "\n",
        "qiime tools import --type 'SampleData[PairedEndSequencesWithQuality]' --input-path manifest-file.tsv --output-path import/import.qza --input-format PairedEndFastqManifestPhred33V2\n",
        "qiime demux summarize --i-data import/import.qza --o-visualization visualization/import.qzv\n",
        "\n",
        "qiime dada2 denoise-paired --i-demultiplexed-seqs import/import.qza \\\n",
        " --p-trunc-len-f 250 \\\n",
        " --p-trunc-len-r 250 \\\n",
        " --p-trim-left-f 17 \\\n",
        " --p-trim-left-r 21 \\\n",
        " --o-representative-sequences dada2/rep-seqs.qza \\\n",
        " --p-n-threads 8 \\\n",
        " --o-table table.qza \\\n",
        " --o-denoising-stats dada2/stats.qza\n",
        "\n",
        "qiime feature-table tabulate-seqs --i-data dada2/rep-seqs.qza --o-visualization visualization/rep-seqs.qzv\n",
        "qiime metadata tabulate --m-input-file dada2/stats.qza --o-visualization visualization/stats.qzv\n",
        "\n",
        "qiime feature-classifier classify-sklearn \\\n",
        " --i-classifier gg-13-8-99-515-806-nb-classifier.qza \\\n",
        " --p-reads-per-batch 10000 \\\n",
        " --i-reads dada2/rep-seqs.qza \\\n",
        " --o-classification taxonomy/taxonomy.qza\n",
        "\n",
        "qiime metadata tabulate \\\n",
        " --m-input-file taxonomy/taxonomy.qza \\\n",
        " --o-visualization visualization/taxonomy.qzv\n",
        "\n",
        "qiime taxa barplot \\\n",
        "  --i-table table.qza \\\n",
        "  --i-taxonomy taxonomy/taxonomy.qza \\\n",
        "  --m-metadata-file metadata-file.tsv \\\n",
        "  --o-visualization visualization/taxa-bar-plots.qzv\n",
        "\n",
        "conda deactivate"
      ],
      "metadata": {
        "id": "vxwJcuGIDhLS",
        "colab": {
          "base_uri": "https://localhost:8080/"
        },
        "outputId": "3034ebaa-94f0-4b00-a273-1bfea1678aed"
      },
      "execution_count": null,
      "outputs": [
        {
          "output_type": "stream",
          "name": "stdout",
          "text": [
            "/bin/bash: /usr/local/lib/libtinfo.so.6: no version information available (required by /bin/bash)\n",
            "--2024-02-16 23:57:47--  https://data.qiime2.org/distro/core/qiime2-2021.2-py36-linux-conda.yml\n",
            "Resolving data.qiime2.org (data.qiime2.org)... 54.200.1.12\n",
            "Connecting to data.qiime2.org (data.qiime2.org)|54.200.1.12|:443... connected.\n",
            "HTTP request sent, awaiting response... 302 FOUND\n",
            "Location: https://raw.githubusercontent.com/qiime2/environment-files/master/2021.2/release/qiime2-2021.2-py36-linux-conda.yml [following]\n",
            "--2024-02-16 23:57:48--  https://raw.githubusercontent.com/qiime2/environment-files/master/2021.2/release/qiime2-2021.2-py36-linux-conda.yml\n",
            "Resolving raw.githubusercontent.com (raw.githubusercontent.com)... 185.199.108.133, 185.199.109.133, 185.199.110.133, ...\n",
            "Connecting to raw.githubusercontent.com (raw.githubusercontent.com)|185.199.108.133|:443... connected.\n",
            "HTTP request sent, awaiting response... 200 OK\n",
            "Length: 9568 (9.3K) [text/plain]\n",
            "Saving to: ‘qiime2-2021.2-py36-linux-conda.yml’\n",
            "\n",
            "qiime2-2021.2-py36- 100%[===================>]   9.34K  --.-KB/s    in 0s      \n",
            "\n",
            "2024-02-16 23:57:48 (66.7 MB/s) - ‘qiime2-2021.2-py36-linux-conda.yml’ saved [9568/9568]\n",
            "\n",
            "Channels:\n",
            " - qiime2/label/r2021.2\n",
            " - conda-forge\n",
            " - bioconda\n",
            " - defaults\n",
            "Platform: linux-64\n",
            "Collecting package metadata (repodata.json): ...working... done\n",
            "Solving environment: ...working... done\n",
            "Preparing transaction: ...working... done\n",
            "Verifying transaction: ...working... done\n",
            "Executing transaction: ...working... Enabling notebook extension jupyter-js-widgets/extension...\n",
            "Paths used for configuration of notebook: \n",
            "    \t/usr/local/envs/qiime2-2021.2/etc/jupyter/nbconfig/notebook.d/widgetsnbextension.json\n",
            "    \t/usr/local/envs/qiime2-2021.2/etc/jupyter/nbconfig/notebook.json\n",
            "Paths used for configuration of notebook: \n",
            "    \t/usr/local/envs/qiime2-2021.2/etc/jupyter/nbconfig/notebook.d/widgetsnbextension.json\n",
            "      - Validating: \u001b[32mOK\u001b[0m\n",
            "Paths used for configuration of notebook: \n",
            "    \t/usr/local/envs/qiime2-2021.2/etc/jupyter/nbconfig/notebook.d/widgetsnbextension.json\n",
            "    \t/usr/local/envs/qiime2-2021.2/etc/jupyter/nbconfig/notebook.json\n",
            "\n",
            "done\n",
            "\u001b[32mImported manifest-file.tsv as PairedEndFastqManifestPhred33V2 to import/import.qza\u001b[0m\n",
            "\u001b[32mSaved Visualization to: visualization/import.qzv\u001b[0m\n",
            "\u001b[32mSaved FeatureTable[Frequency] to: table.qza\u001b[0m\n",
            "\u001b[32mSaved FeatureData[Sequence] to: dada2/rep-seqs.qza\u001b[0m\n",
            "\u001b[32mSaved SampleData[DADA2Stats] to: dada2/stats.qza\u001b[0m\n",
            "\u001b[32mSaved Visualization to: visualization/rep-seqs.qzv\u001b[0m\n",
            "\u001b[32mSaved Visualization to: visualization/stats.qzv\u001b[0m\n",
            "\u001b[32mSaved FeatureData[Taxonomy] to: taxonomy/taxonomy.qza\u001b[0m\n",
            "\u001b[32mSaved Visualization to: visualization/taxonomy.qzv\u001b[0m\n",
            "\u001b[32mSaved Visualization to: visualization/taxa-bar-plots.qzv\u001b[0m\n"
          ]
        },
        {
          "output_type": "execute_result",
          "data": {
            "text/plain": []
          },
          "metadata": {},
          "execution_count": 3
        }
      ]
    },
    {
      "cell_type": "markdown",
      "source": [
        "# Rodar o próximo bloco para análise ITS"
      ],
      "metadata": {
        "id": "MpienBdICh-v"
      }
    },
    {
      "cell_type": "code",
      "source": [
        "%%shell\n",
        "\n",
        "wget https://data.qiime2.org/distro/core/qiime2-2022.2-py38-linux-conda.yml\n",
        "conda env create -n qiime2-2022.2 --file qiime2-2022.2-py38-linux-conda.yml -qq\n",
        "\n",
        "eval \"$(conda shell.bash hook)\"\n",
        "conda activate qiime2-2022.2\n",
        "\n",
        "qiime dada2 denoise-paired \\\n",
        "  --i-demultiplexed-seqs import/import.qza \\\n",
        "  --p-trunc-len-f 200 \\\n",
        "  --p-trunc-len-r 200 \\\n",
        "  --p-trim-left-f 17 \\\n",
        "  --p-trim-left-r 21 \\\n",
        "  --o-representative-sequences rep-seqs-ncbi-unite.qza \\\n",
        "  --p-n-threads 12 \\\n",
        "  --o-table table-ncbi-unite.qza \\\n",
        "  --o-denoising-stats stats-ncbi-unite.qza\n",
        "\n",
        "qiime feature-table tabulate-seqs --i-data rep-seqs-ncbi-unite.qza --o-visualization visualization/rep-seqs2.qzv\n",
        "qiime metadata tabulate --m-input-file stats-ncbi-unite.qza --o-visualization visualization/stats2.qzv\n",
        "\n",
        "qiime feature-classifier classify-sklearn \\\n",
        " --i-classifier classifier-ncbi-unite.qza \\\n",
        " --p-reads-per-batch 10000 \\\n",
        " --i-reads rep-seqs-ncbi-unite.qza \\\n",
        " --o-classification taxonomy/taxonomy2.qza\n",
        "\n",
        "qiime metadata tabulate \\\n",
        " --m-input-file taxonomy/taxonomy2.qza \\\n",
        " --o-visualization visualization/taxonomy2.qzv\n",
        "\n",
        "qiime taxa barplot \\\n",
        "  --i-table table-ncbi-unite.qza \\\n",
        "  --i-taxonomy taxonomy/taxonomy2.qza \\\n",
        "  --m-metadata-file metadata-file.tsv \\\n",
        "  --o-visualization visualization/taxa-bar-plots2.qzv\n",
        "\n",
        "conda deactivate"
      ],
      "metadata": {
        "id": "_1RB4-An0HbK"
      },
      "execution_count": null,
      "outputs": []
    },
    {
      "cell_type": "markdown",
      "source": [
        "# Rodar os próximos blocos para gerar os gráficos"
      ],
      "metadata": {
        "id": "Z1EOXkXICue9"
      }
    },
    {
      "cell_type": "code",
      "source": [
        "import pandas as pd\n",
        "import os\n",
        "\n",
        "pd.set_option('display.max_columns', None)\n",
        "pd.set_option('display.max_colwidth', None)\n",
        "\n",
        "df16s = pd.read_csv('gdrive/MyDrive/trab2/results-16s.csv', sep=',', index_col=False)\n",
        "dfits = pd.read_csv('gdrive/MyDrive/trab2/results-its.csv', sep=',', index_col=False)\n",
        "\n",
        "new_headers = []\n",
        "for col in df16s.columns.values:\n",
        "  found = False\n",
        "  offset = 1\n",
        "  while found == False:\n",
        "    split = col.split(';')\n",
        "    if len( split[ -1 * offset ] ) > 3:\n",
        "      new_headers.append( split[ -1 * offset ] )\n",
        "      found = True\n",
        "    else:\n",
        "      if len( split ) > offset:\n",
        "        offset = offset + 1\n",
        "      else:\n",
        "        new_headers.append( '' )\n",
        "        found = True\n",
        "df16s.columns = new_headers\n",
        "df16s_filtered = df16s.loc[:,['__' in i for i in df16s.columns]]\n",
        "df16s_plottable = df16s_filtered.transpose()\n",
        "\n",
        "new_headers = []\n",
        "for col in dfits.columns.values:\n",
        "  found = False\n",
        "  offset = 1\n",
        "  while found == False:\n",
        "    split = col.split(';')\n",
        "    if len( split[ -1 * offset ] ) > 3:\n",
        "      new_headers.append( split[ -1 * offset ] )\n",
        "      found = True\n",
        "    else:\n",
        "      if len( split ) > offset:\n",
        "        offset = offset + 1\n",
        "      else:\n",
        "        new_headers.append( '' )\n",
        "        found = True\n",
        "dfits.columns = new_headers\n",
        "dfits_filtered = dfits.loc[:,['__' in i for i in dfits.columns]]\n",
        "dfits_plottable = dfits_filtered.transpose()"
      ],
      "metadata": {
        "id": "7heZTIO4wH5o"
      },
      "execution_count": null,
      "outputs": []
    },
    {
      "cell_type": "code",
      "source": [
        "df16s_plottable.plot.bar(legend=False)"
      ],
      "metadata": {
        "id": "guD_BljVwZgZ"
      },
      "execution_count": null,
      "outputs": []
    },
    {
      "cell_type": "code",
      "source": [
        "df16s_plottable.plot.pie(y=0,legend=False,autopct='%1.1f%%')"
      ],
      "metadata": {
        "id": "HkLjDLlm2HOX"
      },
      "execution_count": null,
      "outputs": []
    },
    {
      "cell_type": "code",
      "source": [
        "dfits_plottable.plot.bar(legend=False)"
      ],
      "metadata": {
        "id": "n9OsyFRc0pbX"
      },
      "execution_count": null,
      "outputs": []
    },
    {
      "cell_type": "code",
      "source": [
        "dfits_plottable.plot.pie(y=0,legend=False,autopct='%1.1f%%')"
      ],
      "metadata": {
        "id": "Jl9j-nxl3I4m"
      },
      "execution_count": null,
      "outputs": []
    }
  ]
}